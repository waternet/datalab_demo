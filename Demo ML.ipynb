{
 "cells": [
  {
   "cell_type": "code",
   "execution_count": 1,
   "metadata": {
    "collapsed": true,
    "deletable": true,
    "editable": true
   },
   "outputs": [],
   "source": [
    "import urllib, json\n",
    "%matplotlib inline"
   ]
  },
  {
   "cell_type": "code",
   "execution_count": 2,
   "metadata": {
    "collapsed": true,
    "deletable": true,
    "editable": true
   },
   "outputs": [],
   "source": [
    "url = \"http://open.datapunt.amsterdam.nl/EtenDrinken.json\"\n",
    "response = urllib.urlopen(url)\n",
    "data = json.loads(response.read())"
   ]
  },
  {
   "cell_type": "code",
   "execution_count": 3,
   "metadata": {
    "collapsed": false,
    "deletable": true,
    "editable": true
   },
   "outputs": [
    {
     "data": {
      "text/plain": [
       "{u'dates': {u'enddate': u'', u'startdate': u'27-01-2011'},\n",
       " u'details': {u'de': {u'calendarsummary': u'Mo -Mi : 10:00 - 21:00 Uhr\\nDo : 10:00 - 01:00 Uhr\\nFr , Sa : 10:00 - 02:00 Uhr\\nSo : 10:30 - 20:00 Uhr.',\n",
       "   u'language': u'de',\n",
       "   u'longdescription': u'',\n",
       "   u'shortdescription': u'',\n",
       "   u'title': u'Eetsalon van Dobben B.V.'},\n",
       "  u'en': {u'calendarsummary': u'Mo -We : 10:00 - 21:00 hour\\nTh : 10:00 - 01:00 hour\\nFr , Sa : 10:00 - 02:00 hour\\nSu: 10:30 - 20:00 hour.',\n",
       "   u'language': u'en',\n",
       "   u'longdescription': u'',\n",
       "   u'shortdescription': u'This typical Amsterdam deluxe lunchroom is the meeting place of artists, soccer players and many other locals. Its Van Dobben croquette is famed far beyond the city limits.',\n",
       "   u'title': u'Eetsalon van Dobben B.V.'},\n",
       "  u'es': {u'calendarsummary': u'Lu -Mi : 10:00 - 21:00 Hora\\nJu : 10:00 - 01:00 Hora\\nVi , Sa : 10:00 - 02:00 Hora\\nDo : 10:30 - 20:00 Hora.',\n",
       "   u'language': u'es',\n",
       "   u'longdescription': u'',\n",
       "   u'shortdescription': u'',\n",
       "   u'title': u'Eetsalon van Dobben B.V.'},\n",
       "  u'fr': {u'calendarsummary': u'Lu -Me : 10:00 - 21:00 heure\\nJe : 10:00 - 01:00 heure\\nVe , Sa : 10:00 - 02:00 heure\\nDi : 10:30 - 20:00 heure.',\n",
       "   u'language': u'fr',\n",
       "   u'longdescription': u'',\n",
       "   u'shortdescription': u'',\n",
       "   u'title': u'Eetsalon van Dobben B.V.'},\n",
       "  u'it': {u'calendarsummary': u'Lu -Me : 10:00 - 21:00 Ora\\nGi : 10:00 - 01:00 Ora\\nVe , Sa : 10:00 - 02:00 Ora\\nDo : 10:30 - 20:00 Ora.',\n",
       "   u'language': u'it',\n",
       "   u'longdescription': u'',\n",
       "   u'shortdescription': u'',\n",
       "   u'title': u'Eetsalon van Dobben B.V.'},\n",
       "  u'nl': {u'calendarsummary': u'Ma-wo: 10:00 - 21:00 uur\\ndo: 10:00 - 01:00 uur\\nvr, za: 10:00 - 02:00 uur\\nzo: 10:30 - 20:00 uur.',\n",
       "   u'language': u'nl',\n",
       "   u'longdescription': u'',\n",
       "   u'shortdescription': u'Deze typisch Amsterdamse luxe lunchroom is een pleisterplaats voor artiesten, voetballers en vele andere Amsterdammers. Tot ver buiten de stadsgrenzen is de Van Dobben croquet een begrip.',\n",
       "   u'title': u'Eetsalon van Dobben B.V.'}},\n",
       " u'eigenschappen': {u'3.6': {u'Category': u'Lid VVV',\n",
       "   u'CategoryArea': u'Lidmaatschappen',\n",
       "   u'Catid': u'3.6',\n",
       "   u'Value': u'True'},\n",
       "  u'34.1': {u'Category': u'Type eetgelegenheid',\n",
       "   u'CategoryArea': u'Eetgelegenheid',\n",
       "   u'Catid': u'34.1',\n",
       "   u'Value': {}},\n",
       "  u'34.2': {u'Category': u'Nationaliteit keuken',\n",
       "   u'CategoryArea': u'Eetgelegenheid',\n",
       "   u'Catid': u'34.2',\n",
       "   u'Value': {}}},\n",
       " u'lastupdated': u'2016-09-19 13:58:20',\n",
       " u'location': {u'adress': u'Korte Reguliersdwstr 5-9',\n",
       "  u'city': u'AMSTERDAM',\n",
       "  u'latitude': u'52,3660560',\n",
       "  u'longitude': u'4,8953060',\n",
       "  u'name': u'',\n",
       "  u'zipcode': u'1017 BH'},\n",
       " u'media': [{u'main': u'true',\n",
       "   u'url': u'https://media.iamsterdam.com/ndtrc/Images/20110127/2e2b84ef-227d-42a9-ac47-992a26607175.jpg'}],\n",
       " u'title': u'Eetsalon van Dobben B.V.',\n",
       " u'trcid': u'853c93aa-4599-41ad-9d79-638902925dc9',\n",
       " u'types': [{u'catid': u'3.2.1', u'type': u''}],\n",
       " u'urls': [u'http://www.eetsalonvandobben.nl',\n",
       "  u'http://www.facebook.com/Eetsalon-Van-Dobben-322959054713/']}"
      ]
     },
     "execution_count": 3,
     "metadata": {},
     "output_type": "execute_result"
    }
   ],
   "source": [
    "data[0]"
   ]
  },
  {
   "cell_type": "code",
   "execution_count": 4,
   "metadata": {
    "collapsed": true,
    "deletable": true,
    "editable": true
   },
   "outputs": [],
   "source": [
    "eetgelegenheden = []\n",
    "\n",
    "for d in data:\n",
    "    naam = d['title']\n",
    "    try:\n",
    "        beschrijving = d['details']['nl']['shortdescription']\n",
    "    except:\n",
    "        beschrijving = \"geen\"\n",
    "    lng = float(d['location']['longitude'].replace(',','.'))\n",
    "    lat = float(d['location']['latitude'].replace(',','.'))    \n",
    "    eetgelegenheden.append([naam, beschrijving, lng, lat])"
   ]
  },
  {
   "cell_type": "code",
   "execution_count": 5,
   "metadata": {
    "collapsed": false,
    "deletable": true,
    "editable": true
   },
   "outputs": [
    {
     "data": {
      "text/plain": [
       "[u'Eetsalon van Dobben B.V.',\n",
       " u'Deze typisch Amsterdamse luxe lunchroom is een pleisterplaats voor artiesten, voetballers en vele andere Amsterdammers. Tot ver buiten de stadsgrenzen is de Van Dobben croquet een begrip.',\n",
       " 4.895306,\n",
       " 52.366056]"
      ]
     },
     "execution_count": 5,
     "metadata": {},
     "output_type": "execute_result"
    }
   ],
   "source": [
    "eetgelegenheden[0]"
   ]
  },
  {
   "cell_type": "code",
   "execution_count": 7,
   "metadata": {
    "collapsed": false,
    "deletable": true,
    "editable": true
   },
   "outputs": [
    {
     "data": {
      "text/html": [
       "<div>\n",
       "<table border=\"1\" class=\"dataframe\">\n",
       "  <thead>\n",
       "    <tr style=\"text-align: right;\">\n",
       "      <th></th>\n",
       "      <th>OBJECTNUMMER</th>\n",
       "      <th>Groen_ID</th>\n",
       "      <th>Stadsdeel</th>\n",
       "      <th>Naam</th>\n",
       "      <th>BBQ</th>\n",
       "      <th>Toelichting_bbq</th>\n",
       "      <th>Stadspark</th>\n",
       "      <th>Oppervlakte_m2</th>\n",
       "      <th>COORDS</th>\n",
       "      <th>LNG</th>\n",
       "      <th>LAT</th>\n",
       "      <th>Unnamed: 11</th>\n",
       "    </tr>\n",
       "  </thead>\n",
       "  <tbody>\n",
       "    <tr>\n",
       "      <th>0</th>\n",
       "      <td>1</td>\n",
       "      <td>1</td>\n",
       "      <td>Nieuw-West</td>\n",
       "      <td>Gerbrandypark</td>\n",
       "      <td>RESTRICTIES</td>\n",
       "      <td>In het Gerbrandypark is barbecueën alleen in b...</td>\n",
       "      <td>N</td>\n",
       "      <td>71288</td>\n",
       "      <td>POLYGON((4.826794 52.379047,4.826813 52.379006...</td>\n",
       "      <td>4,831153</td>\n",
       "      <td>52,3778535</td>\n",
       "      <td>NaN</td>\n",
       "    </tr>\n",
       "    <tr>\n",
       "      <th>1</th>\n",
       "      <td>2</td>\n",
       "      <td>2</td>\n",
       "      <td>Zuid</td>\n",
       "      <td>Park Schinkeleilanden</td>\n",
       "      <td>ONBEKEND</td>\n",
       "      <td>NaN</td>\n",
       "      <td>J</td>\n",
       "      <td>17901</td>\n",
       "      <td>MULTIPOLYGON(((4.850506 52.34452,4.85053 52.34...</td>\n",
       "      <td>4,8506935</td>\n",
       "      <td>52,344822</td>\n",
       "      <td>NaN</td>\n",
       "    </tr>\n",
       "    <tr>\n",
       "      <th>2</th>\n",
       "      <td>3</td>\n",
       "      <td>3</td>\n",
       "      <td>Zuid</td>\n",
       "      <td>Amstelpark</td>\n",
       "      <td>VERBOD</td>\n",
       "      <td>In het Amstelpark mag u niet barbecueën.</td>\n",
       "      <td>J</td>\n",
       "      <td>437050</td>\n",
       "      <td>MULTIPOLYGON(((4.890624 52.328765,4.890614 52....</td>\n",
       "      <td>4,894538</td>\n",
       "      <td>52,3292545</td>\n",
       "      <td>NaN</td>\n",
       "    </tr>\n",
       "    <tr>\n",
       "      <th>3</th>\n",
       "      <td>4</td>\n",
       "      <td>4</td>\n",
       "      <td>Zuid</td>\n",
       "      <td>`t Kleine Loopveld</td>\n",
       "      <td>ONBEKEND</td>\n",
       "      <td>NaN</td>\n",
       "      <td>N</td>\n",
       "      <td>165866</td>\n",
       "      <td>MULTIPOLYGON(((4.892118 52.322563,4.892229 52....</td>\n",
       "      <td>4,87896</td>\n",
       "      <td>52,3230285</td>\n",
       "      <td>NaN</td>\n",
       "    </tr>\n",
       "    <tr>\n",
       "      <th>4</th>\n",
       "      <td>5</td>\n",
       "      <td>5</td>\n",
       "      <td>Zuid</td>\n",
       "      <td>Sarphatipark</td>\n",
       "      <td>VERBOD</td>\n",
       "      <td>In het Sarphatipark mag u niet barbecueën.</td>\n",
       "      <td>J</td>\n",
       "      <td>41922</td>\n",
       "      <td>POLYGON((4.898562 52.354808,4.898948 52.354308...</td>\n",
       "      <td>4,8964085</td>\n",
       "      <td>52,3544025</td>\n",
       "      <td>NaN</td>\n",
       "    </tr>\n",
       "  </tbody>\n",
       "</table>\n",
       "</div>"
      ],
      "text/plain": [
       "   OBJECTNUMMER  Groen_ID   Stadsdeel                   Naam          BBQ  \\\n",
       "0             1         1  Nieuw-West          Gerbrandypark  RESTRICTIES   \n",
       "1             2         2        Zuid  Park Schinkeleilanden     ONBEKEND   \n",
       "2             3         3        Zuid             Amstelpark       VERBOD   \n",
       "3             4         4        Zuid     `t Kleine Loopveld     ONBEKEND   \n",
       "4             5         5        Zuid           Sarphatipark       VERBOD   \n",
       "\n",
       "                                     Toelichting_bbq Stadspark  \\\n",
       "0  In het Gerbrandypark is barbecueën alleen in b...         N   \n",
       "1                                                NaN         J   \n",
       "2           In het Amstelpark mag u niet barbecueën.         J   \n",
       "3                                                NaN         N   \n",
       "4         In het Sarphatipark mag u niet barbecueën.         J   \n",
       "\n",
       "   Oppervlakte_m2                                             COORDS  \\\n",
       "0           71288  POLYGON((4.826794 52.379047,4.826813 52.379006...   \n",
       "1           17901  MULTIPOLYGON(((4.850506 52.34452,4.85053 52.34...   \n",
       "2          437050  MULTIPOLYGON(((4.890624 52.328765,4.890614 52....   \n",
       "3          165866  MULTIPOLYGON(((4.892118 52.322563,4.892229 52....   \n",
       "4           41922  POLYGON((4.898562 52.354808,4.898948 52.354308...   \n",
       "\n",
       "         LNG         LAT  Unnamed: 11  \n",
       "0   4,831153  52,3778535          NaN  \n",
       "1  4,8506935   52,344822          NaN  \n",
       "2   4,894538  52,3292545          NaN  \n",
       "3    4,87896  52,3230285          NaN  \n",
       "4  4,8964085  52,3544025          NaN  "
      ]
     },
     "execution_count": 7,
     "metadata": {},
     "output_type": "execute_result"
    }
   ],
   "source": [
    "import pandas as pd\n",
    "\n",
    "data = pd.read_csv('PARKPLANTSOENGROEN.csv', sep=';')\n",
    "data.head()"
   ]
  },
  {
   "cell_type": "code",
   "execution_count": 8,
   "metadata": {
    "collapsed": false,
    "deletable": true,
    "editable": true
   },
   "outputs": [
    {
     "name": "stdout",
     "output_type": "stream",
     "text": [
      "['Gerbrandypark', 4.831153, 52.3778535, 71288]\n"
     ]
    }
   ],
   "source": [
    "parken = []\n",
    "\n",
    "for _, row in data.iterrows():\n",
    "    naam = row['Naam']\n",
    "    lng = float(row['LNG'].replace(',','.'))\n",
    "    lat = float(row['LAT'].replace(',','.'))  \n",
    "    opp = row['Oppervlakte_m2']\n",
    "    parken.append([naam, lng, lat, opp])\n",
    "    \n",
    "print parken[0]"
   ]
  },
  {
   "cell_type": "code",
   "execution_count": 9,
   "metadata": {
    "collapsed": false,
    "deletable": true,
    "editable": true,
    "scrolled": true
   },
   "outputs": [
    {
     "name": "stdout",
     "output_type": "stream",
     "text": [
      "--------------------------------------------------------------------\n",
      "Als je naar het Wertheimpark gaat dan is eetgelegendheid Dignita Hoftuin vlakbij. Hier is wat ze zeggen over Dignita Hoftuin; \n",
      "\n",
      "Verborgen achter de Hermitage in Amsterdam ligt Dignita Hoftuin, een ongewoon tuincafé en een sociaal initiatief dat plaatselijk, biologisch eten serveert en tegelijk de gemeenschap steunt. \n",
      "\n",
      "--------------------------------------------------------------------\n"
     ]
    }
   ],
   "source": [
    "def vind_eetplek_dichtste_bij_park(parknaam):\n",
    "    result = []\n",
    "    lng, lat = 0, 0\n",
    "    for p in parken:\n",
    "        if p[0] == parknaam:\n",
    "            lng, lat = p[1], p[2]\n",
    "            break\n",
    "            \n",
    "    mindist = 1e9\n",
    "    if lat != 0:\n",
    "        for eetgelegenheid in eetgelegenheden:\n",
    "            dlng = eetgelegenheid[2] - lng\n",
    "            dlat = eetgelegenheid[3] - lat\n",
    "            dlatlng = dlng*dlng + dlat*dlat\n",
    "            if dlatlng < mindist:\n",
    "                result = eetgelegenheid\n",
    "                mindist = dlatlng\n",
    "            \n",
    "    return result\n",
    "            \n",
    "idee = vind_eetplek_dichtste_bij_park(\"Wertheimpark\")\n",
    "\n",
    "print \"--------------------------------------------------------------------\"\n",
    "print \"Als je naar het Wertheimpark gaat dan is eetgelegendheid %s vlakbij. Hier is wat ze zeggen over %s; \\n\\n%s\" % (idee[0], idee[0], idee[1])\n",
    "print \"--------------------------------------------------------------------\"       \n",
    "            "
   ]
  },
  {
   "cell_type": "markdown",
   "metadata": {
    "deletable": true,
    "editable": true
   },
   "source": [
    "![title](img/wertheimpark.png)"
   ]
  },
  {
   "cell_type": "code",
   "execution_count": 11,
   "metadata": {
    "collapsed": false,
    "deletable": true,
    "editable": true
   },
   "outputs": [
    {
     "data": {
      "text/html": [
       "<div>\n",
       "<table border=\"1\" class=\"dataframe\">\n",
       "  <thead>\n",
       "    <tr style=\"text-align: right;\">\n",
       "      <th></th>\n",
       "      <th>eetgelegenheden</th>\n",
       "      <th>latitude</th>\n",
       "      <th>longitude</th>\n",
       "      <th>oppervlakte</th>\n",
       "    </tr>\n",
       "  </thead>\n",
       "  <tbody>\n",
       "    <tr>\n",
       "      <th>Gerbrandypark</th>\n",
       "      <td>6</td>\n",
       "      <td>52.377854</td>\n",
       "      <td>4.831153</td>\n",
       "      <td>71288</td>\n",
       "    </tr>\n",
       "    <tr>\n",
       "      <th>Park Schinkeleilanden</th>\n",
       "      <td>21</td>\n",
       "      <td>52.344822</td>\n",
       "      <td>4.850694</td>\n",
       "      <td>17901</td>\n",
       "    </tr>\n",
       "    <tr>\n",
       "      <th>Amstelpark</th>\n",
       "      <td>18</td>\n",
       "      <td>52.329254</td>\n",
       "      <td>4.894538</td>\n",
       "      <td>437050</td>\n",
       "    </tr>\n",
       "    <tr>\n",
       "      <th>`t Kleine Loopveld</th>\n",
       "      <td>6</td>\n",
       "      <td>52.323028</td>\n",
       "      <td>4.878960</td>\n",
       "      <td>165866</td>\n",
       "    </tr>\n",
       "    <tr>\n",
       "      <th>Sarphatipark</th>\n",
       "      <td>288</td>\n",
       "      <td>52.354402</td>\n",
       "      <td>4.896408</td>\n",
       "      <td>41922</td>\n",
       "    </tr>\n",
       "  </tbody>\n",
       "</table>\n",
       "</div>"
      ],
      "text/plain": [
       "                       eetgelegenheden   latitude  longitude  oppervlakte\n",
       "Gerbrandypark                        6  52.377854   4.831153        71288\n",
       "Park Schinkeleilanden               21  52.344822   4.850694        17901\n",
       "Amstelpark                          18  52.329254   4.894538       437050\n",
       "`t Kleine Loopveld                   6  52.323028   4.878960       165866\n",
       "Sarphatipark                       288  52.354402   4.896408        41922"
      ]
     },
     "execution_count": 11,
     "metadata": {},
     "output_type": "execute_result"
    }
   ],
   "source": [
    "def aantal_eetgelegendheden_rondom_park(parknaam, max_afstand):\n",
    "    result = 0\n",
    "    lng, lat = 0, 0\n",
    "    for p in parken:\n",
    "        if p[0] == parknaam:\n",
    "            lng, lat = p[1], p[2]\n",
    "            break\n",
    "            \n",
    "    if lat != 0:\n",
    "        for eetgelegenheid in eetgelegenheden:\n",
    "            dlng = eetgelegenheid[2] - lng\n",
    "            dlat = eetgelegenheid[3] - lat\n",
    "            dlatlng = dlng*dlng + dlat*dlat\n",
    "            if dlatlng < max_afstand*max_afstand:\n",
    "                result += 1\n",
    "                \n",
    "    return result\n",
    "\n",
    "\n",
    "namen, opps, lngs, lats, eetgs = [], [], [], [], []\n",
    "for p in parken:\n",
    "    namen.append(p[0])\n",
    "    opps.append(p[3])\n",
    "    lngs.append(p[1])\n",
    "    lats.append(p[2])\n",
    "    eetgs.append(aantal_eetgelegendheden_rondom_park(p[0], 0.02))\n",
    "    \n",
    "\n",
    "#df = pd.DataFrame(index=naam, columns=['grootte', 'eetplekken'])\n",
    "d = {'oppervlakte': opps, 'eetgelegenheden':eetgs, 'latitude':lats, 'longitude':lngs}\n",
    "df = pd.DataFrame(data=d, index=namen)\n",
    "df = df[df['oppervlakte']<1e6]\n",
    "df.head()"
   ]
  },
  {
   "cell_type": "code",
   "execution_count": 12,
   "metadata": {
    "collapsed": false,
    "deletable": true,
    "editable": true
   },
   "outputs": [
    {
     "data": {
      "image/png": "[encoded data removed]",
      "text/plain": [
       "<matplotlib.figure.Figure at 0x7fbcf9302190>"
      ]
     },
     "metadata": {},
     "output_type": "display_data"
    }
   ],
   "source": [
    "df.plot(kind='scatter', x='oppervlakte', y='eetgelegenheden');"
   ]
  },
  {
   "cell_type": "code",
   "execution_count": 13,
   "metadata": {
    "collapsed": true,
    "deletable": true,
    "editable": true
   },
   "outputs": [],
   "source": [
    "centrum = [52.3693695,4.8986124]\n",
    "\n",
    "df['afstand_tot_centrum'] = (df['latitude'] - centrum[0]) * (df['latitude'] - centrum[0]) + (df['longitude'] - centrum[1]) * (df['longitude'] - centrum[1]) \n",
    "df['afstand_tot_centrum'] *= 10000"
   ]
  },
  {
   "cell_type": "code",
   "execution_count": 15,
   "metadata": {
    "collapsed": false,
    "deletable": true,
    "editable": true
   },
   "outputs": [
    {
     "data": {
      "text/html": [
       "<div>\n",
       "<table border=\"1\" class=\"dataframe\">\n",
       "  <thead>\n",
       "    <tr style=\"text-align: right;\">\n",
       "      <th></th>\n",
       "      <th>eetgelegenheden</th>\n",
       "      <th>latitude</th>\n",
       "      <th>longitude</th>\n",
       "      <th>oppervlakte</th>\n",
       "      <th>afstand_tot_centrum</th>\n",
       "    </tr>\n",
       "  </thead>\n",
       "  <tbody>\n",
       "    <tr>\n",
       "      <th>Gerbrandypark</th>\n",
       "      <td>6</td>\n",
       "      <td>52.377854</td>\n",
       "      <td>4.831153</td>\n",
       "      <td>71288</td>\n",
       "      <td>46.227489</td>\n",
       "    </tr>\n",
       "    <tr>\n",
       "      <th>Park Schinkeleilanden</th>\n",
       "      <td>21</td>\n",
       "      <td>52.344822</td>\n",
       "      <td>4.850694</td>\n",
       "      <td>17901</td>\n",
       "      <td>28.988007</td>\n",
       "    </tr>\n",
       "    <tr>\n",
       "      <th>Amstelpark</th>\n",
       "      <td>18</td>\n",
       "      <td>52.329254</td>\n",
       "      <td>4.894538</td>\n",
       "      <td>437050</td>\n",
       "      <td>16.258140</td>\n",
       "    </tr>\n",
       "    <tr>\n",
       "      <th>`t Kleine Loopveld</th>\n",
       "      <td>6</td>\n",
       "      <td>52.323028</td>\n",
       "      <td>4.878960</td>\n",
       "      <td>165866</td>\n",
       "      <td>25.337051</td>\n",
       "    </tr>\n",
       "    <tr>\n",
       "      <th>Sarphatipark</th>\n",
       "      <td>288</td>\n",
       "      <td>52.354402</td>\n",
       "      <td>4.896408</td>\n",
       "      <td>41922</td>\n",
       "      <td>2.288683</td>\n",
       "    </tr>\n",
       "  </tbody>\n",
       "</table>\n",
       "</div>"
      ],
      "text/plain": [
       "                       eetgelegenheden   latitude  longitude  oppervlakte  \\\n",
       "Gerbrandypark                        6  52.377854   4.831153        71288   \n",
       "Park Schinkeleilanden               21  52.344822   4.850694        17901   \n",
       "Amstelpark                          18  52.329254   4.894538       437050   \n",
       "`t Kleine Loopveld                   6  52.323028   4.878960       165866   \n",
       "Sarphatipark                       288  52.354402   4.896408        41922   \n",
       "\n",
       "                       afstand_tot_centrum  \n",
       "Gerbrandypark                    46.227489  \n",
       "Park Schinkeleilanden            28.988007  \n",
       "Amstelpark                       16.258140  \n",
       "`t Kleine Loopveld               25.337051  \n",
       "Sarphatipark                      2.288683  "
      ]
     },
     "execution_count": 15,
     "metadata": {},
     "output_type": "execute_result"
    }
   ],
   "source": [
    "df.head()"
   ]
  },
  {
   "cell_type": "code",
   "execution_count": 16,
   "metadata": {
    "collapsed": false,
    "deletable": true,
    "editable": true
   },
   "outputs": [
    {
     "data": {
      "image/png": "[encoded data removed]",
      "text/plain": [
       "<matplotlib.figure.Figure at 0x7fbd20c82a10>"
      ]
     },
     "metadata": {},
     "output_type": "display_data"
    }
   ],
   "source": [
    "df.plot(kind='scatter', x='afstand_tot_centrum', y='eetgelegenheden');"
   ]
  },
  {
   "cell_type": "code",
   "execution_count": 18,
   "metadata": {
    "collapsed": false,
    "deletable": true,
    "editable": true
   },
   "outputs": [
    {
     "data": {
      "image/png": "[encoded data removed]",
      "text/plain": [
       "<matplotlib.figure.Figure at 0x7fbcf9006850>"
      ]
     },
     "metadata": {},
     "output_type": "display_data"
    }
   ],
   "source": [
    "import numpy as np\n",
    "import matplotlib.pyplot as plt\n",
    "\n",
    "X = np.array(df['afstand_tot_centrum'])\n",
    "y = np.array(df['eetgelegenheden'])\n",
    "\n",
    "from scipy.optimize import curve_fit\n",
    "\n",
    "def myExpFunc(x, a, b):\n",
    "    return a * np.power(x, b)\n",
    "\n",
    "popt, pcov = curve_fit(myExpFunc, X, y)\n",
    "\n",
    "newX = np.logspace(0, 2.3, base=10)\n",
    "plt.plot(newX, myExpFunc(newX, *popt), 'r-', \n",
    "         label=\"({0:.3f}*x**{1:.3f})\".format(*popt))\n",
    "plt.scatter(X,y)\n",
    "plt.show()"
   ]
  },
  {
   "cell_type": "code",
   "execution_count": null,
   "metadata": {
    "collapsed": true,
    "deletable": true,
    "editable": true
   },
   "outputs": [],
   "source": []
  }
 ],
 "metadata": {
  "kernelspec": {
   "display_name": "Python 2",
   "language": "python",
   "name": "python2"
  },
  "language_info": {
   "codemirror_mode": {
    "name": "ipython",
    "version": 2
   },
   "file_extension": ".py",
   "mimetype": "text/x-python",
   "name": "python",
   "nbconvert_exporter": "python",
   "pygments_lexer": "ipython2",
   "version": "2.7.12"
  }
 },
 "nbformat": 4,
 "nbformat_minor": 2
}
